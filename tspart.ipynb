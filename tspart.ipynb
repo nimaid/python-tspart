{
 "cells": [
  {
   "cell_type": "markdown",
   "id": "e6ec617b-b778-4591-8998-a6e55bb49b38",
   "metadata": {},
   "source": [
    "# Python `tspart` Module Usage Example"
   ]
  },
  {
   "cell_type": "markdown",
   "id": "07bf4b1f-57e6-429c-98e3-de1ae344fa6c",
   "metadata": {
    "jp-MarkdownHeadingCollapsed": true
   },
   "source": [
    "## Step 0: Initial setup tools."
   ]
  },
  {
   "cell_type": "markdown",
   "id": "993b1e46-b692-4346-9d7f-58cc5e771e5f",
   "metadata": {},
   "source": [
    "### Install the `tspart` module."
   ]
  },
  {
   "cell_type": "code",
   "execution_count": null,
   "id": "536d9586-2864-4438-8d9c-cc69ec8abea6",
   "metadata": {},
   "outputs": [],
   "source": [
    "!pip install --upgrade --no-cache-dir tspart"
   ]
  },
  {
   "cell_type": "markdown",
   "id": "615f956f-3a90-4e29-b46a-fb64734ae5e7",
   "metadata": {},
   "source": [
    "### Download the default test image."
   ]
  },
  {
   "cell_type": "code",
   "execution_count": null,
   "id": "a58f353c-8472-45b1-9516-430aa6bb5d1b",
   "metadata": {},
   "outputs": [],
   "source": [
    "!curl https://raw.githubusercontent.com/nimaid/python-tspart/main/tests/baboon.png -o baboon.png\n",
    "!mkdir tests\n",
    "!mv baboon.png tests/baboon.png"
   ]
  },
  {
   "cell_type": "markdown",
   "id": "a8cbc2eb-9d4d-4417-a328-adfbedd38750",
   "metadata": {},
   "source": [
    "## Step 1: Setup environment."
   ]
  },
  {
   "cell_type": "code",
   "execution_count": null,
   "id": "2378e5a6-35ab-4598-9c03-9fe265c4ec36",
   "metadata": {},
   "outputs": [],
   "source": [
    "import os\n",
    "import tspart\n",
    "from IPython.display import display\n",
    "\n",
    "def display_width(img, width=600):\n",
    "    ratio = img.size[0] / img.size[1]\n",
    "    \n",
    "    new_size = (\n",
    "        width,\n",
    "        int(round(width / ratio))\n",
    "    )\n",
    "    \n",
    "    display(img.resize(new_size))"
   ]
  },
  {
   "cell_type": "code",
   "execution_count": null,
   "id": "c3750e85-51f8-41a3-95d6-bc0bb8075145",
   "metadata": {},
   "outputs": [],
   "source": [
    "working_directory = \"tests\"\n",
    "image_file = os.path.join(working_directory, \"baboon.png\")\n",
    "number_of_points = 500\n",
    "\n",
    "image_name = os.path.splitext(os.path.basename(image_file))[0]\n",
    "tsp_image_file = os.path.join(working_directory, f\"{image_name}_{number_of_points}.png\")\n",
    "pre_tsp_file = os.path.join(working_directory, f\"{image_name}_{number_of_points}_raw.tspart\")\n",
    "tsp_file = os.path.join(working_directory, f\"{image_name}_{number_of_points}.tspart\")\n",
    "jobs_file = os.path.join(working_directory, f\"{image_name}_{number_of_points}.jobs\")"
   ]
  },
  {
   "cell_type": "code",
   "execution_count": null,
   "id": "566480d8-7672-417a-b765-6511a7576666",
   "metadata": {},
   "outputs": [],
   "source": [
    "email = input(\"Please enter your email address (for sending requests to the Neos online solver):\").strip()"
   ]
  },
  {
   "cell_type": "markdown",
   "id": "c9f8593c-b949-4679-8f93-84b122239901",
   "metadata": {},
   "source": [
    "## Step 2: Import the image and get it's size."
   ]
  },
  {
   "cell_type": "code",
   "execution_count": null,
   "id": "a0ff4e89-73e6-4f23-8179-04e424026112",
   "metadata": {},
   "outputs": [],
   "source": [
    "img = tspart.load_image_as_array(image_file)\n",
    "size = tspart.image_array_size(img)"
   ]
  },
  {
   "cell_type": "markdown",
   "id": "ddf85a9f-8bff-45fe-b4fe-6906c74b3774",
   "metadata": {},
   "source": [
    "## Step 3: Prepare the monochrome image(s)."
   ]
  },
  {
   "cell_type": "markdown",
   "id": "12937416-5b1d-408f-9109-71b79a13d517",
   "metadata": {
    "jp-MarkdownHeadingCollapsed": true
   },
   "source": [
    "#### Monochrome Option: Convert to black and white."
   ]
  },
  {
   "cell_type": "code",
   "execution_count": null,
   "id": "a8f0b66d-ab5b-46ee-875c-949763d48e31",
   "metadata": {},
   "outputs": [],
   "source": [
    "img_channels = [tspart.rgb_array_to_grayscale(img)]"
   ]
  },
  {
   "cell_type": "markdown",
   "id": "44568534-7a58-401f-976e-7369f4bd6b84",
   "metadata": {},
   "source": [
    "#### CMYK Option: Split channels."
   ]
  },
  {
   "cell_type": "code",
   "execution_count": null,
   "id": "e3e54b81-0a34-4ff4-9d68-6655704e00fb",
   "metadata": {},
   "outputs": [],
   "source": [
    "img_channels = tspart.split_cmyk(img)"
   ]
  },
  {
   "cell_type": "markdown",
   "id": "d65677d3-7bdf-4692-94c6-31f818c0e05e",
   "metadata": {
    "jp-MarkdownHeadingCollapsed": true
   },
   "source": [
    "#### RGB Option: Split channels."
   ]
  },
  {
   "cell_type": "code",
   "execution_count": null,
   "id": "4f107071-3add-4f71-aeb7-0b8478d2adcf",
   "metadata": {},
   "outputs": [],
   "source": [
    "img_channels = tspart.split_rgb(img, invert=True)"
   ]
  },
  {
   "cell_type": "markdown",
   "id": "6fed8305-6e8d-419c-843f-ca582550a5e9",
   "metadata": {},
   "source": [
    "## Step 4: Stipple the images.\n",
    "This can a few hours and a lot of memory for larger numbers of points."
   ]
  },
  {
   "cell_type": "code",
   "execution_count": null,
   "id": "a9747ddd-a6bc-4aec-8793-3c9362981b98",
   "metadata": {},
   "outputs": [],
   "source": [
    "points = tspart.voronoi.stipple_image_multi(img_channels, points=number_of_points)"
   ]
  },
  {
   "cell_type": "markdown",
   "id": "5419b7d1-9ba4-4d8b-a6ce-3be1e7cd53b6",
   "metadata": {},
   "source": [
    "#### Optional: Filter out points that lie on pure white pixels."
   ]
  },
  {
   "cell_type": "code",
   "execution_count": null,
   "id": "9297a583-3fce-4182-8e89-301590b46ca3",
   "metadata": {},
   "outputs": [],
   "source": [
    "points = tspart.filter_white_points_multi(img_channels, points)"
   ]
  },
  {
   "cell_type": "markdown",
   "id": "a96e052a-26df-409e-85c0-8a77fa797d18",
   "metadata": {},
   "source": [
    "### Step 4.5 (optional): Save the stippled points to disk (in case of failure)."
   ]
  },
  {
   "cell_type": "code",
   "execution_count": null,
   "id": "a6d48f1b-a9c0-496d-99d8-03f0ee16d200",
   "metadata": {},
   "outputs": [],
   "source": [
    "tspart.save_tspart(\n",
    "    filename=pre_tsp_file,\n",
    "    points=points,\n",
    "    factors=[[1.0 for __ in _] for _ in points],\n",
    "    size=size\n",
    ")"
   ]
  },
  {
   "cell_type": "markdown",
   "id": "02feed15-4de9-4839-ac2d-6f1dd965fa3f",
   "metadata": {},
   "source": [
    "## Step 5: Solve the TSP problems with a free online solver.\n",
    "This will take a long time."
   ]
  },
  {
   "cell_type": "markdown",
   "id": "4cd088c1-4c98-4b51-b8ac-c8d83398d72c",
   "metadata": {},
   "source": [
    "#### Part A: Create the client and submit the jobs for processing"
   ]
  },
  {
   "cell_type": "code",
   "execution_count": null,
   "id": "3895d89d-87c5-4dd1-b350-1f88a18f50b4",
   "metadata": {},
   "outputs": [],
   "source": [
    "neos = tspart.neos.get_client()"
   ]
  },
  {
   "cell_type": "code",
   "execution_count": null,
   "id": "a42510b3-4039-49a8-8c35-992751b5525f",
   "metadata": {},
   "outputs": [],
   "source": [
    "jobs = tspart.neos.submit_solves(neos, email, points)"
   ]
  },
  {
   "cell_type": "markdown",
   "id": "d1fae011-27e0-494b-ab27-36e0f5f7e864",
   "metadata": {},
   "source": [
    "##### Optional: Save the jobs to disk (in case of failure)."
   ]
  },
  {
   "cell_type": "code",
   "execution_count": null,
   "id": "c569aec6-e021-4cd7-94e7-82b9929c7505",
   "metadata": {},
   "outputs": [],
   "source": [
    "tspart.save_jobs(jobs_file, jobs)"
   ]
  },
  {
   "cell_type": "markdown",
   "id": "abdba20c-33bd-464a-b613-f1d393652b68",
   "metadata": {},
   "source": [
    "#### Part B: Wait for results."
   ]
  },
  {
   "cell_type": "code",
   "execution_count": null,
   "id": "041a30a2-30b7-4450-9ea4-6999910632d2",
   "metadata": {},
   "outputs": [],
   "source": [
    "routes = tspart.neos.get_solves_blocking(neos, jobs, points)"
   ]
  },
  {
   "cell_type": "markdown",
   "id": "3f0004e7-bb33-4e25-9a32-9f079390f318",
   "metadata": {},
   "source": [
    "#### Part C: Compute size factors."
   ]
  },
  {
   "cell_type": "code",
   "execution_count": null,
   "id": "50af7899-3851-44de-a927-55e9b1ac1047",
   "metadata": {},
   "outputs": [],
   "source": [
    "factors = tspart.factors_from_image_multi(img_channels, routes)"
   ]
  },
  {
   "cell_type": "markdown",
   "id": "f843e160-f8b0-4b7e-b5d3-95d2d2088a40",
   "metadata": {},
   "source": [
    "### Step 5.5 (optional): Save the routes locally (in case of failure).\n",
    "Additionally, delete the pre-TSP data."
   ]
  },
  {
   "cell_type": "code",
   "execution_count": null,
   "id": "bb8bd26e-d3e0-40ce-b2d3-662d11b03e0a",
   "metadata": {},
   "outputs": [],
   "source": [
    "tspart.save_tspart(\n",
    "    filename=tsp_file,\n",
    "    points=routes,\n",
    "    factors=factors,\n",
    "    size=size\n",
    ")\n",
    "\n",
    "if os.path.exists(pre_tsp_file):\n",
    "    os.remove(pre_tsp_file)\n",
    "\n",
    "if os.path.exists(jobs_file):\n",
    "    os.remove(jobs_file)"
   ]
  },
  {
   "cell_type": "markdown",
   "id": "4a9b213f-b724-4493-a537-12c623e83f05",
   "metadata": {},
   "source": [
    "## Step 6: Draw a bitmap image.\n",
    "You can tweak the line width until you get a good looking result."
   ]
  },
  {
   "cell_type": "markdown",
   "id": "2210f634-f376-438a-89e6-e7013bb7c50e",
   "metadata": {
    "jp-MarkdownHeadingCollapsed": true
   },
   "source": [
    "#### Monochrome Option"
   ]
  },
  {
   "cell_type": "code",
   "execution_count": null,
   "id": "2e32c029-0141-454e-8725-a86809e01f42",
   "metadata": {},
   "outputs": [],
   "source": [
    "drawn_image = tspart.draw_route(\n",
    "    points=routes[0],\n",
    "    factors=factors[0],\n",
    "    size=size,\n",
    "    line_width=12,\n",
    "    scale=2\n",
    ")\n",
    "\n",
    "display_width(drawn_image)"
   ]
  },
  {
   "cell_type": "markdown",
   "id": "8bf82fe4-9f9d-4e57-847b-d1f49657e55e",
   "metadata": {},
   "source": [
    "#### CMYK Option"
   ]
  },
  {
   "cell_type": "code",
   "execution_count": null,
   "id": "f96027ed-2e40-4467-8dde-dec5b1c656f8",
   "metadata": {},
   "outputs": [],
   "source": [
    "drawn_image = tspart.draw_cmyk_routes(\n",
    "    cmyk_points=routes,\n",
    "    cmyk_factors=factors,\n",
    "    size=size,\n",
    "    line_width=8,\n",
    "    scale=2\n",
    ")\n",
    "\n",
    "display_width(drawn_image)"
   ]
  },
  {
   "cell_type": "markdown",
   "id": "57ad5de8-03d4-41c8-9706-4b0f6f0f3d22",
   "metadata": {
    "jp-MarkdownHeadingCollapsed": true
   },
   "source": [
    "#### RGB Option"
   ]
  },
  {
   "cell_type": "code",
   "execution_count": null,
   "id": "200e9e5e-ccda-4c6a-bafd-727a3283acde",
   "metadata": {},
   "outputs": [],
   "source": [
    "drawn_image = tspart.draw_rgb_routes(\n",
    "    rgb_points=routes,\n",
    "    rgb_factors=factors,\n",
    "    size=size,\n",
    "    line_width=8,\n",
    "    scale=2\n",
    ")\n",
    "\n",
    "display_width(drawn_image)"
   ]
  },
  {
   "cell_type": "markdown",
   "id": "c59fac42-b18b-4daa-8bc5-03e5b1a1fad9",
   "metadata": {},
   "source": [
    "## Step 7: Save the image."
   ]
  },
  {
   "cell_type": "code",
   "execution_count": null,
   "id": "9ab5b8ad-f16f-410e-aa9a-865e334a1cd6",
   "metadata": {},
   "outputs": [],
   "source": [
    "drawn_image.save(tsp_image_file)"
   ]
  },
  {
   "cell_type": "markdown",
   "id": "2cc89710-d9f7-400a-88d4-eb6c25b8aea6",
   "metadata": {},
   "source": [
    "# Tools:"
   ]
  },
  {
   "cell_type": "markdown",
   "id": "8bb56cd5-e5ec-469e-a8fa-5584078200e7",
   "metadata": {},
   "source": [
    "## Alternate Step 4: Load raw (pre-TSP) points from disk."
   ]
  },
  {
   "cell_type": "code",
   "execution_count": null,
   "id": "b1d4bf00-6b5c-4be3-940d-2965dba182fd",
   "metadata": {},
   "outputs": [],
   "source": [
    "art_object = tspart.load_tspart(pre_tsp_file)\n",
    "\n",
    "points = art_object[\"points\"]\n",
    "factors = art_object[\"factors\"]\n",
    "size = art_object[\"size\"]"
   ]
  },
  {
   "cell_type": "markdown",
   "id": "201789e1-a016-41bb-b960-8e45aae9bc25",
   "metadata": {},
   "source": [
    "## Alternate Step 5 (A): Recover Neos solves with saved jobs file."
   ]
  },
  {
   "cell_type": "code",
   "execution_count": null,
   "id": "1668b376-516a-4c89-a35f-b1eda3a7f145",
   "metadata": {},
   "outputs": [],
   "source": [
    "neos = tspart.neos.get_client()\n",
    "jobs = tspart.load_jobs(jobs_file)"
   ]
  },
  {
   "cell_type": "markdown",
   "id": "96a8cf73-6f80-4cd0-950a-15445e330cef",
   "metadata": {},
   "source": [
    "## Alternate Step 5: Load precomputed routes from disk."
   ]
  },
  {
   "cell_type": "code",
   "execution_count": null,
   "id": "52716a43-529e-4489-b467-b22cae07e0ba",
   "metadata": {},
   "outputs": [],
   "source": [
    "art_object = tspart.load_tspart(tsp_file)\n",
    "\n",
    "routes = art_object[\"points\"]\n",
    "factors = art_object[\"factors\"]\n",
    "size = art_object[\"size\"]"
   ]
  },
  {
   "cell_type": "markdown",
   "id": "88e67f71-32e7-4aed-aae4-3ae19aa9be06",
   "metadata": {},
   "source": [
    "## Alternate Step 5: Run a heuristic (non-exact) solve locally\n",
    "A 1-hour timeout is used by default for each channel."
   ]
  },
  {
   "cell_type": "code",
   "execution_count": null,
   "id": "bbfcebde-c8c7-4758-8a1e-3aefa1be7fd8",
   "metadata": {},
   "outputs": [],
   "source": [
    "routes = tspart.tsp.heuristic_solves(points, verbose=True)"
   ]
  },
  {
   "cell_type": "markdown",
   "id": "6325a624-4dcb-4cd2-9e80-8cd65453d6c0",
   "metadata": {},
   "source": [
    "## Print the job numbers and passwords for the current jobs."
   ]
  },
  {
   "cell_type": "code",
   "execution_count": null,
   "id": "d93d06b0-0150-4ce5-ba61-fa7283bfa168",
   "metadata": {},
   "outputs": [],
   "source": [
    "print(jobs)"
   ]
  },
  {
   "cell_type": "markdown",
   "id": "c33ee3ed-6d0e-4c6a-9520-d2a0919d1786",
   "metadata": {},
   "source": [
    "## Cancel Neos solves and delete jobs file."
   ]
  },
  {
   "cell_type": "code",
   "execution_count": null,
   "id": "93d09d7c-0042-465a-83f7-d8021cba81d4",
   "metadata": {},
   "outputs": [],
   "source": [
    "tspart.neos.cancel_solves(neos, jobs)\n",
    "\n",
    "if os.path.exists(jobs_file):\n",
    "    os.remove(jobs_file)"
   ]
  }
 ],
 "metadata": {
  "kernelspec": {
   "display_name": "Python 3 (ipykernel)",
   "language": "python",
   "name": "python3"
  },
  "language_info": {
   "codemirror_mode": {
    "name": "ipython",
    "version": 3
   },
   "file_extension": ".py",
   "mimetype": "text/x-python",
   "name": "python",
   "nbconvert_exporter": "python",
   "pygments_lexer": "ipython3",
   "version": "3.10.13"
  }
 },
 "nbformat": 4,
 "nbformat_minor": 5
}
