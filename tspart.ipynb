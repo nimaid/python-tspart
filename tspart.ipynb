{
 "cells": [
  {
   "cell_type": "code",
   "execution_count": null,
   "id": "2378e5a6-35ab-4598-9c03-9fe265c4ec36",
   "metadata": {},
   "outputs": [],
   "source": [
    "import tspart"
   ]
  },
  {
   "cell_type": "code",
   "execution_count": null,
   "id": "a0ff4e89-73e6-4f23-8179-04e424026112",
   "metadata": {},
   "outputs": [],
   "source": [
    "img = tspart.load_image_as_array(\"tests\\\\bowser.jpg\")\n",
    "cmyk = tspart.split_cmyk(img)\n",
    "size = tuple(int(round(_)) for _ in img.shape[:2])"
   ]
  },
  {
   "cell_type": "code",
   "execution_count": null,
   "id": "a9747ddd-a6bc-4aec-8793-3c9362981b98",
   "metadata": {},
   "outputs": [],
   "source": [
    "cmyk_points = tspart.voronoi.stipple_image_multi(cmyk, 5000)"
   ]
  },
  {
   "cell_type": "code",
   "execution_count": null,
   "id": "3895d89d-87c5-4dd1-b350-1f88a18f50b4",
   "metadata": {},
   "outputs": [],
   "source": [
    "neos = tspart.neos.get_client()\n",
    "jobs = tspart.neos.submit_solves(neos, \"yourname@example.com\", cmyk_points)\n",
    "solves = tspart.neos.get_solves_blocking(neos, jobs)"
   ]
  },
  {
   "cell_type": "code",
   "execution_count": null,
   "id": "133f8903-5c60-4912-ae82-6790238df71e",
   "metadata": {},
   "outputs": [],
   "source": [
    "cmyk_routes = map_points_to_route_multi(cmyk_points, solves)\n",
    "tspart.save_routes(\"tests\\\\bowser_1000.json\", cmyk_routes, size)"
   ]
  },
  {
   "cell_type": "code",
   "execution_count": null,
   "id": "f8d79d1d-b939-4121-835b-81caaf43ece7",
   "metadata": {},
   "outputs": [],
   "source": [
    "drawn_image = tspart.draw_cmyk_routes(cmyk_points, size, 2)\n",
    "drawn_image.show()"
   ]
  }
 ],
 "metadata": {
  "kernelspec": {
   "display_name": "Python 3 (ipykernel)",
   "language": "python",
   "name": "python3"
  },
  "language_info": {
   "codemirror_mode": {
    "name": "ipython",
    "version": 3
   },
   "file_extension": ".py",
   "mimetype": "text/x-python",
   "name": "python",
   "nbconvert_exporter": "python",
   "pygments_lexer": "ipython3",
   "version": "3.10.13"
  }
 },
 "nbformat": 4,
 "nbformat_minor": 5
}
