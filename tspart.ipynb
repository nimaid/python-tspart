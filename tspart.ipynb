{
 "cells": [
  {
   "cell_type": "markdown",
   "id": "e6ec617b-b778-4591-8998-a6e55bb49b38",
   "metadata": {},
   "source": [
    "# Python `tspart` Module Usage Example"
   ]
  },
  {
   "cell_type": "code",
   "execution_count": null,
   "id": "2378e5a6-35ab-4598-9c03-9fe265c4ec36",
   "metadata": {},
   "outputs": [],
   "source": [
    "import os\n",
    "import tspart\n",
    "from IPython.display import display"
   ]
  },
  {
   "cell_type": "code",
   "execution_count": null,
   "id": "566480d8-7672-417a-b765-6511a7576666",
   "metadata": {},
   "outputs": [],
   "source": [
    "email = input(\"Please enter your email address (for sending requests to the Neos online solver):\").strip()"
   ]
  },
  {
   "cell_type": "markdown",
   "id": "ddf85a9f-8bff-45fe-b4fe-6906c74b3774",
   "metadata": {},
   "source": [
    "Import the image, get it's size, and split into CMYK channels."
   ]
  },
  {
   "cell_type": "code",
   "execution_count": null,
   "id": "a0ff4e89-73e6-4f23-8179-04e424026112",
   "metadata": {},
   "outputs": [],
   "source": [
    "img = tspart.load_image_as_array(os.path.join(\"tests\", \"baboon.png\"))\n",
    "size = tspart.image_array_size(img)\n",
    "cmyk = tspart.split_cmyk(img)"
   ]
  },
  {
   "cell_type": "markdown",
   "id": "6fed8305-6e8d-419c-843f-ca582550a5e9",
   "metadata": {},
   "source": [
    "Stipple the images."
   ]
  },
  {
   "cell_type": "code",
   "execution_count": null,
   "id": "a9747ddd-a6bc-4aec-8793-3c9362981b98",
   "metadata": {},
   "outputs": [],
   "source": [
    "cmyk_points = tspart.voronoi.stipple_image_multi(cmyk, points=500)"
   ]
  },
  {
   "cell_type": "markdown",
   "id": "a96e052a-26df-409e-85c0-8a77fa797d18",
   "metadata": {},
   "source": [
    "Save the stippled points to disk (in order to resume after a failure)."
   ]
  },
  {
   "cell_type": "code",
   "execution_count": null,
   "id": "a6d48f1b-a9c0-496d-99d8-03f0ee16d200",
   "metadata": {},
   "outputs": [],
   "source": [
    "tspart.save_routes(os.path.join(\"tests\", \"tspart_raw.json\"), cmyk_points, size)"
   ]
  },
  {
   "cell_type": "markdown",
   "id": "02feed15-4de9-4839-ac2d-6f1dd965fa3f",
   "metadata": {},
   "source": [
    "Solve the TSP problems with a free online solver.\n",
    "\n",
    "This will take a long time."
   ]
  },
  {
   "cell_type": "code",
   "execution_count": null,
   "id": "3895d89d-87c5-4dd1-b350-1f88a18f50b4",
   "metadata": {},
   "outputs": [],
   "source": [
    "neos = tspart.neos.get_client()\n",
    "jobs = tspart.neos.submit_solves(neos, email, cmyk_points)\n",
    "cmyk_routes = tspart.neos.get_solves_blocking(neos, jobs, cmyk_points)"
   ]
  },
  {
   "cell_type": "markdown",
   "id": "f843e160-f8b0-4b7e-b5d3-95d2d2088a40",
   "metadata": {},
   "source": [
    "Save the routes locally (in order to resume after a failure).\n",
    "\n",
    "Additionally, delete the pre-TSP data."
   ]
  },
  {
   "cell_type": "code",
   "execution_count": null,
   "id": "bb8bd26e-d3e0-40ce-b2d3-662d11b03e0a",
   "metadata": {},
   "outputs": [],
   "source": [
    "tspart.save_routes(os.path.join(\"tests\", \"tspart.json\"), cmyk_routes, size)\n",
    "os.remove(os.path.join(\"tests\", \"tspart_raw.json\"))"
   ]
  },
  {
   "cell_type": "markdown",
   "id": "4a9b213f-b724-4493-a537-12c623e83f05",
   "metadata": {},
   "source": [
    "Draw a bitmap image."
   ]
  },
  {
   "cell_type": "code",
   "execution_count": null,
   "id": "f96027ed-2e40-4467-8dde-dec5b1c656f8",
   "metadata": {},
   "outputs": [],
   "source": [
    "drawn_image = tspart.draw_cmyk_routes(cmyk_routes, line_width=7.5, images=cmyk, scale=4)\n",
    "\n",
    "width = 600\n",
    "\n",
    "ratio = size[0] / size[1]\n",
    "new_size = (\n",
    "    width,\n",
    "    int(round(width / ratio))\n",
    ")\n",
    "\n",
    "display(drawn_image.resize(new_size))"
   ]
  },
  {
   "cell_type": "markdown",
   "id": "c59fac42-b18b-4daa-8bc5-03e5b1a1fad9",
   "metadata": {},
   "source": [
    "Save the image."
   ]
  },
  {
   "cell_type": "code",
   "execution_count": null,
   "id": "9ab5b8ad-f16f-410e-aa9a-865e334a1cd6",
   "metadata": {},
   "outputs": [],
   "source": [
    "drawn_image.save(os.path.join(\"tests\", \"tspart.png\"))"
   ]
  },
  {
   "cell_type": "markdown",
   "id": "2cc89710-d9f7-400a-88d4-eb6c25b8aea6",
   "metadata": {},
   "source": [
    "# Tools:"
   ]
  },
  {
   "cell_type": "markdown",
   "id": "8bb56cd5-e5ec-469e-a8fa-5584078200e7",
   "metadata": {},
   "source": [
    "Load raw (pre-TSP) points from disk."
   ]
  },
  {
   "cell_type": "code",
   "execution_count": null,
   "id": "b1d4bf00-6b5c-4be3-940d-2965dba182fd",
   "metadata": {},
   "outputs": [],
   "source": [
    "cmyk_points, size = tspart.load_routes(os.path.join(\"tests\", \"tspart_raw.json\"))"
   ]
  },
  {
   "cell_type": "markdown",
   "id": "96a8cf73-6f80-4cd0-950a-15445e330cef",
   "metadata": {},
   "source": [
    "Load precomputed route data from disk."
   ]
  },
  {
   "cell_type": "code",
   "execution_count": null,
   "id": "52716a43-529e-4489-b467-b22cae07e0ba",
   "metadata": {},
   "outputs": [],
   "source": [
    "cmyk_routes, size = tspart.load_routes(os.path.join(\"tests\", \"tspart.json\"))"
   ]
  },
  {
   "cell_type": "markdown",
   "id": "88e67f71-32e7-4aed-aae4-3ae19aa9be06",
   "metadata": {},
   "source": [
    "Run a heuristic (non-exact) solve locally with a 1-hour timeout for each channel."
   ]
  },
  {
   "cell_type": "code",
   "execution_count": null,
   "id": "bbfcebde-c8c7-4758-8a1e-3aefa1be7fd8",
   "metadata": {},
   "outputs": [],
   "source": [
    "cmyk_routes = tspart.tsp.heuristic_solves(cmyk_points, time_limit_minutes=60, symmetric=True)"
   ]
  },
  {
   "cell_type": "markdown",
   "id": "c33ee3ed-6d0e-4c6a-9520-d2a0919d1786",
   "metadata": {},
   "source": [
    "Cancel Neos solves."
   ]
  },
  {
   "cell_type": "code",
   "execution_count": null,
   "id": "93d09d7c-0042-465a-83f7-d8021cba81d4",
   "metadata": {},
   "outputs": [],
   "source": [
    "tspart.neos.cancel_solves(neos, jobs)"
   ]
  },
  {
   "cell_type": "markdown",
   "id": "201789e1-a016-41bb-b960-8e45aae9bc25",
   "metadata": {},
   "source": [
    "Manually recover Neos solves with jobs numbers and passwords."
   ]
  },
  {
   "cell_type": "code",
   "execution_count": null,
   "id": "1668b376-516a-4c89-a35f-b1eda3a7f145",
   "metadata": {},
   "outputs": [],
   "source": [
    "jobs = [\n",
    "    (13820283, \"ckmupfHR\"),\n",
    "    (13820284, \"GeQdiMoA\"),\n",
    "    (13820285, \"RacOsQuM\"),\n",
    "    (13820286, \"OyWRtNBp\")\n",
    "]\n",
    "neos = tspart.neos.get_client()\n",
    "cmyk_routes = tspart.neos.get_solves_blocking(neos, jobs, cmyk_points)"
   ]
  },
  {
   "cell_type": "markdown",
   "id": "6325a624-4dcb-4cd2-9e80-8cd65453d6c0",
   "metadata": {},
   "source": [
    "Print the job numbers and passwords for the current jobs."
   ]
  },
  {
   "cell_type": "code",
   "execution_count": null,
   "id": "d93d06b0-0150-4ce5-ba61-fa7283bfa168",
   "metadata": {},
   "outputs": [],
   "source": [
    "print(jobs)"
   ]
  },
  {
   "cell_type": "markdown",
   "id": "a7bc7edc-cfed-4341-9ba1-3f7428a9ba12",
   "metadata": {},
   "source": [
    "# Setup Utilities"
   ]
  },
  {
   "cell_type": "markdown",
   "id": "993b1e46-b692-4346-9d7f-58cc5e771e5f",
   "metadata": {},
   "source": [
    "Install the `tspart` module."
   ]
  },
  {
   "cell_type": "code",
   "execution_count": null,
   "id": "536d9586-2864-4438-8d9c-cc69ec8abea6",
   "metadata": {},
   "outputs": [],
   "source": [
    "!pip install --upgrade --no-cache-dir tspart"
   ]
  },
  {
   "cell_type": "markdown",
   "id": "615f956f-3a90-4e29-b46a-fb64734ae5e7",
   "metadata": {},
   "source": [
    "Download the test image."
   ]
  },
  {
   "cell_type": "code",
   "execution_count": null,
   "id": "a58f353c-8472-45b1-9516-430aa6bb5d1b",
   "metadata": {},
   "outputs": [],
   "source": [
    "!curl https://raw.githubusercontent.com/nimaid/python-tspart/main/tests/baboon.png -o baboon.png\n",
    "import shutil\n",
    "shutil.move(\"baboon.png\", os.path.join(\"tests\", \"baboon.png\"))"
   ]
  }
 ],
 "metadata": {
  "kernelspec": {
   "display_name": "Python 3 (ipykernel)",
   "language": "python",
   "name": "python3"
  },
  "language_info": {
   "codemirror_mode": {
    "name": "ipython",
    "version": 3
   },
   "file_extension": ".py",
   "mimetype": "text/x-python",
   "name": "python",
   "nbconvert_exporter": "python",
   "pygments_lexer": "ipython3",
   "version": "3.10.13"
  }
 },
 "nbformat": 4,
 "nbformat_minor": 5
}
