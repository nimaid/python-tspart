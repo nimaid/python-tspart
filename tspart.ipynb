{
 "cells": [
  {
   "cell_type": "code",
   "execution_count": null,
   "id": "2378e5a6-35ab-4598-9c03-9fe265c4ec36",
   "metadata": {},
   "outputs": [],
   "source": [
    "import tspart\n",
    "from IPython.display import display"
   ]
  },
  {
   "cell_type": "markdown",
   "id": "ddf85a9f-8bff-45fe-b4fe-6906c74b3774",
   "metadata": {},
   "source": [
    "Import the image and get it's size."
   ]
  },
  {
   "cell_type": "code",
   "execution_count": null,
   "id": "a0ff4e89-73e6-4f23-8179-04e424026112",
   "metadata": {},
   "outputs": [],
   "source": [
    "img = tspart.load_image_as_array(\"tests\\\\bowser.jpg\")\n",
    "size = tspart.rgb_image_array_size(img)"
   ]
  },
  {
   "cell_type": "markdown",
   "id": "9f001383-03aa-4010-9e7b-019c091505a0",
   "metadata": {},
   "source": [
    "Split into CMYK channels."
   ]
  },
  {
   "cell_type": "code",
   "execution_count": null,
   "id": "c0093944-2787-4d09-919c-013c844bd822",
   "metadata": {},
   "outputs": [],
   "source": [
    "cmyk = tspart.split_cmyk(img)"
   ]
  },
  {
   "cell_type": "markdown",
   "id": "6fed8305-6e8d-419c-843f-ca582550a5e9",
   "metadata": {},
   "source": [
    "Stipple the images."
   ]
  },
  {
   "cell_type": "code",
   "execution_count": null,
   "id": "a9747ddd-a6bc-4aec-8793-3c9362981b98",
   "metadata": {},
   "outputs": [],
   "source": [
    "cmyk_points = tspart.voronoi.stipple_image_multi(cmyk, 100)"
   ]
  },
  {
   "cell_type": "markdown",
   "id": "02feed15-4de9-4839-ac2d-6f1dd965fa3f",
   "metadata": {},
   "source": [
    "Solve the TSP problens with a free online solver."
   ]
  },
  {
   "cell_type": "code",
   "execution_count": null,
   "id": "3895d89d-87c5-4dd1-b350-1f88a18f50b4",
   "metadata": {},
   "outputs": [],
   "source": [
    "neos = tspart.neos.get_client()\n",
    "jobs = tspart.neos.submit_solves(neos, \"yourname@example.com\", cmyk_points)\n",
    "solves = tspart.neos.get_solves_blocking(neos, jobs, 0.1)"
   ]
  },
  {
   "cell_type": "markdown",
   "id": "d1a64c92-41a7-4ceb-bcb5-105e12c63e8b",
   "metadata": {},
   "source": [
    "Map the indecies back to actual points."
   ]
  },
  {
   "cell_type": "code",
   "execution_count": null,
   "id": "133f8903-5c60-4912-ae82-6790238df71e",
   "metadata": {},
   "outputs": [],
   "source": [
    "cmyk_routes = tspart.map_points_to_route_multi(cmyk_points, solves)"
   ]
  },
  {
   "cell_type": "markdown",
   "id": "f843e160-f8b0-4b7e-b5d3-95d2d2088a40",
   "metadata": {},
   "source": [
    "Save the routes locally for later use."
   ]
  },
  {
   "cell_type": "code",
   "execution_count": null,
   "id": "bb8bd26e-d3e0-40ce-b2d3-662d11b03e0a",
   "metadata": {},
   "outputs": [],
   "source": [
    "tspart.save_routes(\"tests\\\\bowser.json\", cmyk_routes, size)"
   ]
  },
  {
   "cell_type": "markdown",
   "id": "4a9b213f-b724-4493-a537-12c623e83f05",
   "metadata": {},
   "source": [
    "Draw a bitmap image."
   ]
  },
  {
   "cell_type": "code",
   "execution_count": null,
   "id": "f96027ed-2e40-4467-8dde-dec5b1c656f8",
   "metadata": {},
   "outputs": [],
   "source": [
    "drawn_image = tspart.draw_cmyk_routes(cmyk_points, size, 2)"
   ]
  },
  {
   "cell_type": "markdown",
   "id": "d39ad34f-0cc2-4845-bf70-33b283460af2",
   "metadata": {},
   "source": [
    "Display the image."
   ]
  },
  {
   "cell_type": "code",
   "execution_count": null,
   "id": "70d5b48b-67f2-4b1e-a4e9-e8ac07d8e9c1",
   "metadata": {},
   "outputs": [],
   "source": [
    "width = 600\n",
    "\n",
    "ratio = size[0] / size[1]\n",
    "new_size = (\n",
    "    width,\n",
    "    int(round(width / ratio))\n",
    ")\n",
    "\n",
    "display(drawn_image.resize(new_size))"
   ]
  }
 ],
 "metadata": {
  "kernelspec": {
   "display_name": "Python 3 (ipykernel)",
   "language": "python",
   "name": "python3"
  },
  "language_info": {
   "codemirror_mode": {
    "name": "ipython",
    "version": 3
   },
   "file_extension": ".py",
   "mimetype": "text/x-python",
   "name": "python",
   "nbconvert_exporter": "python",
   "pygments_lexer": "ipython3",
   "version": "3.10.13"
  }
 },
 "nbformat": 4,
 "nbformat_minor": 5
}
