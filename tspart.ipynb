{
 "cells": [
  {
   "cell_type": "markdown",
   "id": "e6ec617b-b778-4591-8998-a6e55bb49b38",
   "metadata": {},
   "source": [
    "# Python `tspart` Module Usage Example"
   ]
  },
  {
   "cell_type": "markdown",
   "id": "07bf4b1f-57e6-429c-98e3-de1ae344fa6c",
   "metadata": {
    "jp-MarkdownHeadingCollapsed": true
   },
   "source": [
    "## Step 0: Initial setup tools."
   ]
  },
  {
   "cell_type": "markdown",
   "id": "993b1e46-b692-4346-9d7f-58cc5e771e5f",
   "metadata": {},
   "source": [
    "### Install the `tspart` module."
   ]
  },
  {
   "cell_type": "code",
   "execution_count": null,
   "id": "536d9586-2864-4438-8d9c-cc69ec8abea6",
   "metadata": {},
   "outputs": [],
   "source": [
    "!pip install --upgrade --no-cache-dir tspart"
   ]
  },
  {
   "cell_type": "markdown",
   "id": "615f956f-3a90-4e29-b46a-fb64734ae5e7",
   "metadata": {},
   "source": [
    "### Download the default test image."
   ]
  },
  {
   "cell_type": "code",
   "execution_count": null,
   "id": "a58f353c-8472-45b1-9516-430aa6bb5d1b",
   "metadata": {},
   "outputs": [],
   "source": [
    "!curl https://raw.githubusercontent.com/nimaid/python-tspart/main/tests/baboon.png -o baboon.png\n",
    "!mkdir tests\n",
    "!mv baboon.png tests/baboon.png"
   ]
  },
  {
   "cell_type": "markdown",
   "id": "a8cbc2eb-9d4d-4417-a328-adfbedd38750",
   "metadata": {},
   "source": [
    "## Step 1: Setup environment."
   ]
  },
  {
   "cell_type": "code",
   "execution_count": null,
   "id": "2378e5a6-35ab-4598-9c03-9fe265c4ec36",
   "metadata": {},
   "outputs": [],
   "source": [
    "import os\n",
    "from tspart import studio\n",
    "from PIL import Image\n",
    "from IPython.display import display\n",
    "\n",
    "def display_width(img, width=600):\n",
    "    ratio = img.size[0] / img.size[1]\n",
    "    \n",
    "    new_size = (\n",
    "        width,\n",
    "        int(round(width / ratio))\n",
    "    )\n",
    "    \n",
    "    display(img.resize(new_size))"
   ]
  },
  {
   "cell_type": "code",
   "execution_count": null,
   "id": "c3750e85-51f8-41a3-95d6-bc0bb8075145",
   "metadata": {},
   "outputs": [],
   "source": [
    "working_directory = \"tests\"\n",
    "image_file = os.path.join(working_directory, \"baboon.png\")\n",
    "number_of_points = 500\n",
    "color_mode = studio.ColorMode.CMYK\n",
    "\n",
    "image_name = os.path.splitext(os.path.basename(image_file))[0]\n",
    "main_name = f\"{image_name}_{number_of_points}_{color_mode.value}\"\n",
    "\n",
    "tsp_image_file = os.path.join(working_directory, f\"{main_name}.png\")\n",
    "tsp_file = os.path.join(working_directory, f\"{main_name}.tspstudio\")"
   ]
  },
  {
   "cell_type": "code",
   "execution_count": null,
   "id": "566480d8-7672-417a-b765-6511a7576666",
   "metadata": {},
   "outputs": [],
   "source": [
    "email = input(\"Please enter your email address (for sending requests to the Neos online solver):\").strip()"
   ]
  },
  {
   "cell_type": "markdown",
   "id": "004e5a0c-0507-4709-9e15-a39ff411ee81",
   "metadata": {},
   "source": [
    "## Step 2: Import image and initalize the studio."
   ]
  },
  {
   "cell_type": "code",
   "execution_count": null,
   "id": "363c7b3e-d671-46ff-af80-ee92dca91226",
   "metadata": {},
   "outputs": [],
   "source": [
    "image = Image.open(image_file)\n",
    "tsp = studio.TspStudio(\n",
    "            mode=color_mode,\n",
    "            image=image,\n",
    "            num_points=number_of_points\n",
    "    )"
   ]
  },
  {
   "cell_type": "markdown",
   "id": "69ba8e2c-9630-4cae-8193-648ebfb75025",
   "metadata": {},
   "source": [
    "## Step 3: Stipple the images.\n",
    "This can a few hours and a lot of memory for larger numbers of points."
   ]
  },
  {
   "cell_type": "code",
   "execution_count": null,
   "id": "22fd3cf4-9876-4ed0-88a2-517619deb884",
   "metadata": {},
   "outputs": [],
   "source": [
    "tsp.stipple()"
   ]
  },
  {
   "cell_type": "code",
   "execution_count": null,
   "id": "b32b2e2e-f5bd-4cb6-861f-d18bf8e14b65",
   "metadata": {},
   "outputs": [],
   "source": [
    "tsp.save(tsp_file)"
   ]
  },
  {
   "cell_type": "markdown",
   "id": "54acd277-f4cf-42a6-81a8-beeee432df13",
   "metadata": {},
   "source": [
    "## Step 4: Solve the TSP problems with a free online solver.\n",
    "\n",
    "This will take a long time."
   ]
  },
  {
   "cell_type": "markdown",
   "id": "61c3f0d8-9fc6-49fa-b156-f70884d2986e",
   "metadata": {},
   "source": [
    "### Option A: Manual Management"
   ]
  },
  {
   "cell_type": "code",
   "execution_count": null,
   "id": "95e28051-dfb8-49c6-be5c-8073bbe15fc4",
   "metadata": {},
   "outputs": [],
   "source": [
    "tsp.submit_online_solves(email=email)"
   ]
  },
  {
   "cell_type": "code",
   "execution_count": null,
   "id": "eb2825ce-afed-4d07-9c08-c8355f3e0cb0",
   "metadata": {},
   "outputs": [],
   "source": [
    "tsp.save(tsp_file)"
   ]
  },
  {
   "cell_type": "code",
   "execution_count": null,
   "id": "ed9c819b-9909-49b4-b24b-101b202f6133",
   "metadata": {},
   "outputs": [],
   "source": [
    "tsp.get_online_solves()"
   ]
  },
  {
   "cell_type": "code",
   "execution_count": null,
   "id": "7c799e92-864d-447d-bb94-f301e01c067e",
   "metadata": {},
   "outputs": [],
   "source": [
    "tsp.save(tsp_file)"
   ]
  },
  {
   "cell_type": "markdown",
   "id": "836a532c-a771-485f-b73a-133953fc54cd",
   "metadata": {
    "jp-MarkdownHeadingCollapsed": true
   },
   "source": [
    "### Option B: Automatic Management (good at recovering from server errors)"
   ]
  },
  {
   "cell_type": "code",
   "execution_count": null,
   "id": "42b241d1-185b-44de-895e-f6370f89e61f",
   "metadata": {
    "scrolled": true
   },
   "outputs": [],
   "source": [
    "tsp.online_solves(email, save_filename=tsp_file)"
   ]
  },
  {
   "cell_type": "markdown",
   "id": "47c4bf5c-f5f1-4c9f-8d45-2e350ed58db0",
   "metadata": {},
   "source": [
    "## Step 5: Draw a bitmap image.\n",
    "You can tweak the line width until you get a good looking result."
   ]
  },
  {
   "cell_type": "code",
   "execution_count": null,
   "id": "04ebd696-16cb-4e73-9950-89b9b410e995",
   "metadata": {},
   "outputs": [],
   "source": [
    "tsp.line_width = 8"
   ]
  },
  {
   "cell_type": "code",
   "execution_count": null,
   "id": "393f5e44-5863-494f-ac41-0fd47a0b6aff",
   "metadata": {},
   "outputs": [],
   "source": [
    "drawn_image = tsp.draw(scale=2)\n",
    "\n",
    "display_width(drawn_image)"
   ]
  },
  {
   "cell_type": "code",
   "execution_count": null,
   "id": "c925a459-c39e-45ae-a5ed-0b254c287b7e",
   "metadata": {},
   "outputs": [],
   "source": [
    "tsp.save(tsp_file)"
   ]
  },
  {
   "cell_type": "markdown",
   "id": "a3447cd1-2000-4108-9064-56021ee1c101",
   "metadata": {},
   "source": [
    "## Step 6: Save the image."
   ]
  },
  {
   "cell_type": "code",
   "execution_count": null,
   "id": "29915979-4aa0-4d8f-a5d6-44c1c110bb6b",
   "metadata": {},
   "outputs": [],
   "source": [
    "drawn_image.save(tsp_image_file)"
   ]
  },
  {
   "cell_type": "markdown",
   "id": "fdfb5304-8109-44e2-967c-a3a210485e8c",
   "metadata": {},
   "source": [
    "# Tools"
   ]
  },
  {
   "cell_type": "markdown",
   "id": "3a14f2dd-16e3-49d2-9dbe-c332556f30f7",
   "metadata": {},
   "source": [
    "## Load the saved studio file."
   ]
  },
  {
   "cell_type": "code",
   "execution_count": null,
   "id": "a82f0b09-f0cc-4611-9875-66acd8dc04a3",
   "metadata": {},
   "outputs": [],
   "source": [
    "tsp = studio.load(tsp_file)"
   ]
  },
  {
   "cell_type": "markdown",
   "id": "b9351da9-cf14-4926-9ee0-336297d0ee9b",
   "metadata": {},
   "source": [
    "## Cancel online solves."
   ]
  },
  {
   "cell_type": "code",
   "execution_count": null,
   "id": "240cb353-de12-4360-aa22-834510676472",
   "metadata": {},
   "outputs": [],
   "source": [
    "tsp.cancel_online_solves()"
   ]
  },
  {
   "cell_type": "code",
   "execution_count": null,
   "id": "87b26809-250d-4136-a6c7-90b1718bf1af",
   "metadata": {},
   "outputs": [],
   "source": [
    "tsp.save(tsp_file)"
   ]
  },
  {
   "cell_type": "markdown",
   "id": "956ce914-7230-41b0-aadd-ade33903bccb",
   "metadata": {},
   "source": [
    "## Alternate Step 4: Run heuristic (non-exact) solves locally.\n",
    "A 1-hour timeout is used by default for each channel."
   ]
  },
  {
   "cell_type": "code",
   "execution_count": null,
   "id": "b7deea8a-b883-401e-915e-799b194d8b3c",
   "metadata": {},
   "outputs": [],
   "source": [
    "tsp.offline_solves(verbose=True)"
   ]
  }
 ],
 "metadata": {
  "kernelspec": {
   "display_name": "Python 3 (ipykernel)",
   "language": "python",
   "name": "python3"
  },
  "language_info": {
   "codemirror_mode": {
    "name": "ipython",
    "version": 3
   },
   "file_extension": ".py",
   "mimetype": "text/x-python",
   "name": "python",
   "nbconvert_exporter": "python",
   "pygments_lexer": "ipython3",
   "version": "3.10.13"
  }
 },
 "nbformat": 4,
 "nbformat_minor": 5
}
