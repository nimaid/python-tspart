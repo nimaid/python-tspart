{
 "cells": [
  {
   "cell_type": "markdown",
   "id": "e6ec617b-b778-4591-8998-a6e55bb49b38",
   "metadata": {},
   "source": [
    "# Python `tspart` Module Usage Example"
   ]
  },
  {
   "cell_type": "code",
   "execution_count": null,
   "id": "2378e5a6-35ab-4598-9c03-9fe265c4ec36",
   "metadata": {},
   "outputs": [],
   "source": [
    "import os\n",
    "import tspart\n",
    "from IPython.display import display"
   ]
  },
  {
   "cell_type": "code",
   "execution_count": null,
   "id": "566480d8-7672-417a-b765-6511a7576666",
   "metadata": {},
   "outputs": [],
   "source": [
    "email = input(\"Please enter your email address (for sending requests to the Neos online solver):\").strip()"
   ]
  },
  {
   "cell_type": "markdown",
   "id": "ddf85a9f-8bff-45fe-b4fe-6906c74b3774",
   "metadata": {},
   "source": [
    "Import the image, get it's size, and split into CMYK channels."
   ]
  },
  {
   "cell_type": "code",
   "execution_count": null,
   "id": "a0ff4e89-73e6-4f23-8179-04e424026112",
   "metadata": {},
   "outputs": [],
   "source": [
    "img = tspart.load_image_as_array(os.path.join(\"tests\", \"bowser.jpg\"))\n",
    "size = tspart.image_array_size(img)\n",
    "cmyk = tspart.split_cmyk(img)"
   ]
  },
  {
   "cell_type": "markdown",
   "id": "6fed8305-6e8d-419c-843f-ca582550a5e9",
   "metadata": {},
   "source": [
    "Stipple the images."
   ]
  },
  {
   "cell_type": "code",
   "execution_count": null,
   "id": "a9747ddd-a6bc-4aec-8793-3c9362981b98",
   "metadata": {},
   "outputs": [],
   "source": [
    "cmyk_points = tspart.voronoi.stipple_image_multi(cmyk, points=5000)"
   ]
  },
  {
   "cell_type": "markdown",
   "id": "02feed15-4de9-4839-ac2d-6f1dd965fa3f",
   "metadata": {},
   "source": [
    "Solve the TSP problems with a free online solver.\n",
    "\n",
    "This will take a long time."
   ]
  },
  {
   "cell_type": "code",
   "execution_count": null,
   "id": "3895d89d-87c5-4dd1-b350-1f88a18f50b4",
   "metadata": {},
   "outputs": [],
   "source": [
    "neos = tspart.neos.get_client()\n",
    "jobs = tspart.neos.submit_solves(neos, email, cmyk_points)\n",
    "solves = tspart.neos.get_solves_blocking(neos, jobs)"
   ]
  },
  {
   "cell_type": "markdown",
   "id": "d1a64c92-41a7-4ceb-bcb5-105e12c63e8b",
   "metadata": {},
   "source": [
    "Map the indices back to actual points."
   ]
  },
  {
   "cell_type": "code",
   "execution_count": null,
   "id": "133f8903-5c60-4912-ae82-6790238df71e",
   "metadata": {},
   "outputs": [],
   "source": [
    "cmyk_routes = tspart.map_points_to_route_multi(cmyk_points, solves)"
   ]
  },
  {
   "cell_type": "markdown",
   "id": "f843e160-f8b0-4b7e-b5d3-95d2d2088a40",
   "metadata": {},
   "source": [
    "Save the routes locally for later use."
   ]
  },
  {
   "cell_type": "code",
   "execution_count": null,
   "id": "bb8bd26e-d3e0-40ce-b2d3-662d11b03e0a",
   "metadata": {},
   "outputs": [],
   "source": [
    "tspart.save_routes(os.path.join(\"tests\", \"tspart.json\"), cmyk_routes, size)"
   ]
  },
  {
   "cell_type": "markdown",
   "id": "4a9b213f-b724-4493-a537-12c623e83f05",
   "metadata": {},
   "source": [
    "Draw a bitmap image."
   ]
  },
  {
   "cell_type": "code",
   "execution_count": null,
   "id": "f96027ed-2e40-4467-8dde-dec5b1c656f8",
   "metadata": {},
   "outputs": [],
   "source": [
    "drawn_image = tspart.draw_cmyk_routes(cmyk_routes, line_width=10, images=cmyk)\n",
    "\n",
    "width = 600\n",
    "\n",
    "ratio = size[0] / size[1]\n",
    "new_size = (\n",
    "    width,\n",
    "    int(round(width / ratio))\n",
    ")\n",
    "\n",
    "display(drawn_image.resize(new_size))"
   ]
  },
  {
   "cell_type": "markdown",
   "id": "c59fac42-b18b-4daa-8bc5-03e5b1a1fad9",
   "metadata": {},
   "source": [
    "Save the image."
   ]
  },
  {
   "cell_type": "code",
   "execution_count": null,
   "id": "9ab5b8ad-f16f-410e-aa9a-865e334a1cd6",
   "metadata": {},
   "outputs": [],
   "source": [
    "drawn_image.save(os.path.join(\"tests\", \"tspart.png\")"
   ]
  },
  {
   "cell_type": "markdown",
   "id": "2cc89710-d9f7-400a-88d4-eb6c25b8aea6",
   "metadata": {},
   "source": [
    "# Tools:"
   ]
  },
  {
   "cell_type": "markdown",
   "id": "96a8cf73-6f80-4cd0-950a-15445e330cef",
   "metadata": {},
   "source": [
    "Load precomputed image data from disk."
   ]
  },
  {
   "cell_type": "code",
   "execution_count": null,
   "id": "52716a43-529e-4489-b467-b22cae07e0ba",
   "metadata": {},
   "outputs": [],
   "source": [
    "cmyk_routes, size = tspart.load_routes(os.path.join(\"tests\", \"tspart.json\")"
   ]
  },
  {
   "cell_type": "markdown",
   "id": "c33ee3ed-6d0e-4c6a-9520-d2a0919d1786",
   "metadata": {},
   "source": [
    "Cancel Neos solves."
   ]
  },
  {
   "cell_type": "code",
   "execution_count": null,
   "id": "93d09d7c-0042-465a-83f7-d8021cba81d4",
   "metadata": {},
   "outputs": [],
   "source": [
    "tspart.neos.cancel_solves(neos, jobs)"
   ]
  },
  {
   "cell_type": "markdown",
   "id": "88e67f71-32e7-4aed-aae4-3ae19aa9be06",
   "metadata": {},
   "source": [
    "Run a heuristic (non-exact) solve locally with a 1-hour timeout for each channel."
   ]
  },
  {
   "cell_type": "code",
   "execution_count": null,
   "id": "bbfcebde-c8c7-4758-8a1e-3aefa1be7fd8",
   "metadata": {},
   "outputs": [],
   "source": [
    "solves = tspart.tsp.heuristic_solves(cmyk_points, time_limit_minutes=60, symmetric=True)"
   ]
  }
 ],
 "metadata": {
  "kernelspec": {
   "display_name": "Python 3 (ipykernel)",
   "language": "python",
   "name": "python3"
  },
  "language_info": {
   "codemirror_mode": {
    "name": "ipython",
    "version": 3
   },
   "file_extension": ".py",
   "mimetype": "text/x-python",
   "name": "python",
   "nbconvert_exporter": "python",
   "pygments_lexer": "ipython3",
   "version": "3.10.13"
  }
 },
 "nbformat": 4,
 "nbformat_minor": 5
}
